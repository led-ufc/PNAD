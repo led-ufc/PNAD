{
 "cells": [
  {
   "cell_type": "code",
   "execution_count": null,
   "metadata": {},
   "outputs": [],
   "source": [
    "import psycopg2\n",
    "import numpy as np\n",
    "import pandas as pd\n",
    "import matplotlib as mpl\n",
    "import matplotlib.pyplot as plt\n",
    "\n",
    "#Connection data:\n",
    "database = input(\"Digite o nome do Banco de Dados a ser acessado:\")\n",
    "postgresuser = input(\"Usuário:\")\n",
    "postgrespassword = input(\"Senha:\")\n",
    "hosts_ip = input(\"IP:\")\n",
    "conn_port = input(\"Porta:\")\n",
    "\n",
    "\n",
    "# Connect the database\n",
    "conn = psycopg2.connect(\n",
    "    dbname = database,\n",
    "    user = postgresuser,\n",
    "    password = postgrespassword,\n",
    "    host = hosts_ip,\n",
    "    port = conn_port\n",
    ")\n",
    "\n",
    "# Open cursor to perform database operations\n",
    "cur = conn.cursor()\n",
    "cur1 = conn.cursor()\n",
    "cur2 = conn.cursor()\n",
    "cur3 = conn.cursor()\n",
    "cur4 = conn.cursor()\n",
    "\n",
    "# Query the database and obtain data as Python objects\n",
    "#cur.execute(\"SELECT id, qt_setores FROM pres_vargas.censo2010_aa_ponderacao_for_mar\")\n",
    "#cur.execute(\"SELECT * FROM pnadc.pnadc_2012_visita1_20190516\")\n",
    "cur.execute(\"SELECT uf, v1022, v1023, v1030, v2001, v2005 FROM pnadc.pnadc_2017_visita5_ce\")\n",
    "cur.fetchall()\n"
   ]
  },
  {
   "cell_type": "code",
   "execution_count": null,
   "metadata": {},
   "outputs": [],
   "source": [
    "cur1.execute(\"SELECT v1023 FROM pnadc.pnadc_2017_visita5_ce\")\n",
    "x = cur1.fetchall()\n",
    "data = pd.DataFrame(x)\n",
    "data"
   ]
  },
  {
   "cell_type": "code",
   "execution_count": null,
   "metadata": {},
   "outputs": [],
   "source": [
    "cur2.execute(\"SELECT v2005 FROM pnadc.pnadc_2017_visita5_ce\")\n",
    "y = cur2.fetchall()\n",
    "data = pd.DataFrame(y)\n",
    "data"
   ]
  },
  {
   "cell_type": "code",
   "execution_count": null,
   "metadata": {},
   "outputs": [],
   "source": [
    "data.describe()"
   ]
  },
  {
   "cell_type": "code",
   "execution_count": null,
   "metadata": {},
   "outputs": [],
   "source": [
    "data.dtypes"
   ]
  },
  {
   "cell_type": "code",
   "execution_count": null,
   "metadata": {
    "scrolled": true
   },
   "outputs": [],
   "source": [
    "cur3.execute(\"SELECT upa FROM pnadc.pnadc_2017_visita5_ce\")\n",
    "cur4.execute(\"SELECT v2005 FROM pnadc.pnadc_2017_visita5_ce\")\n",
    "w = cur3.fetchall()\n",
    "z = cur4.fetchall()\n",
    "\n",
    "df3 = pd.DataFrame(y, w)\n",
    "df3"
   ]
  },
  {
   "cell_type": "code",
   "execution_count": null,
   "metadata": {},
   "outputs": [],
   "source": [
    "df3.dtypes"
   ]
  },
  {
   "cell_type": "code",
   "execution_count": null,
   "metadata": {
    "scrolled": true
   },
   "outputs": [],
   "source": [
    "df3.describe()"
   ]
  },
  {
   "cell_type": "code",
   "execution_count": null,
   "metadata": {},
   "outputs": [],
   "source": [
    "Cid = w\n",
    "cd_aponde = z\n",
    "\n",
    "# Cria um gráfico de linha, anos no x, gdp no eixo y\n",
    "plt.plot(w, z, color='red', marker='o', linestyle='solid')\n",
    "#plt.plot(z, color='green', marker='o', linestyle='solid')\n",
    "\n",
    "# Adiciona um título\n",
    "plt.title(\"GDP Nominal\")\n",
    "\n",
    "# Adiciona um selo no eixo y\n",
    "plt.ylabel(\"Bilhões de $\")\n",
    "plt.show()\n",
    "#plt.savefig()"
   ]
  },
  {
   "cell_type": "code",
   "execution_count": null,
   "metadata": {},
   "outputs": [],
   "source": [
    "\n",
    "# Close comunication the database\n",
    "cur.close()\n",
    "cur1.close()\n",
    "cur2.close()\n",
    "cur3.close()\n",
    "cur4.close()\n",
    "conn.close()"
   ]
  }
 ],
 "metadata": {
  "kernelspec": {
   "display_name": "Python 3",
   "language": "python",
   "name": "python3"
  },
  "language_info": {
   "codemirror_mode": {
    "name": "ipython",
    "version": 3
   },
   "file_extension": ".py",
   "mimetype": "text/x-python",
   "name": "python",
   "nbconvert_exporter": "python",
   "pygments_lexer": "ipython3",
   "version": "3.7.4"
  }
 },
 "nbformat": 4,
 "nbformat_minor": 2
}
