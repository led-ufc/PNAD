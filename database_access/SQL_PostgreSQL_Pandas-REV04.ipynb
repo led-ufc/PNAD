{
 "cells": [
  {
   "cell_type": "markdown",
   "metadata": {},
   "source": [
    "## Check-list:\n",
    "------\n",
    "1. Check Conda package list to verify the following packages and versions:\n",
    "    1. SQLalchemy - 1.3.7;\n",
    "    2. Psycopg2 - 2.8.3;\n",
    "2. On the Anaconda's Terminal use the following command line:\n",
    "```python\n",
    "conda list\n",
    "```\n",
    "3. If you need to update any package use the following command line:\n",
    "```python\n",
    "conda update sqlalchemy\n",
    "conda update psycopg2\n",
    "```\n",
    "4. Import psycopg2 and connect to the SQL database:\n",
    "```python\n",
    "import psycopg2\n",
    "```\n",
    "\n",
    "5. Connect to the database server using the OpenVPN and open the database administrator system, PgAdmin 4;\n",
    "\n",
    "6. Import NumPy and pandas and translate the data:\n",
    "```python\n",
    "import numpy as np\n",
    "import pandas as pd\n",
    "```"
   ]
  },
  {
   "cell_type": "markdown",
   "metadata": {},
   "source": [
    "7. Check-list:\n",
    "\n",
    "    <input type=\"checkbox\"> Acessar banco de dados SQL com Python;\n",
    "\n",
    "    <input type=\"checkbox\"> Traduzir banco de dados em ambiente Jupyter com Python/Pandas;\n",
    "\n",
    "    <input type=\"checkbox\"> Estatística descritiva dos dados;\n",
    "\n",
    "    <input type=\"checkbox\"> Estatística analítica dos dados."
   ]
  },
  {
   "cell_type": "code",
   "execution_count": null,
   "metadata": {},
   "outputs": [],
   "source": [
    "import psycopg2\n",
    "\n",
    "# Connect the database\n",
    "conn = psycopg2.connect(\n",
    "    dbname = \"database\",\n",
    "    user = \"postgresuser\",\n",
    "    password = \"postgrespassword\",\n",
    "    host = \"host's ip\",\n",
    "    port = 5432\n",
    ")\n",
    "\n",
    "# Open cursor to perform database operations\n",
    "cur = conn.cursor()\n",
    "cur1 = conn.cursor()\n",
    "cur2 = conn.cursor()\n",
    "cur3 = conn.cursor()\n",
    "cur4 = conn.cursor()\n",
    "\n",
    "# Query the database and obtain data as Python objects\n",
    "#cur.execute(\"SELECT id, qt_setores FROM pres_vargas.censo2010_aa_ponderacao_for_mar\")\n",
    "#cur.execute(\"SELECT * FROM pnadc.pnadc_2012_visita1_20190516\")\n",
    "cur.execute(\"SELECT id, cd_aponde, aa_km2 FROM pres_vargas.censo2010_aa_ponderacao_for_mar\")\n",
    "cur.fetchall()\n"
   ]
  },
  {
   "cell_type": "code",
   "execution_count": null,
   "metadata": {},
   "outputs": [],
   "source": [
    "import numpy as np\n",
    "import pandas as pd\n",
    "import matplotlib as mpl\n",
    "import matplotlib.pyplot as plt"
   ]
  },
  {
   "cell_type": "code",
   "execution_count": null,
   "metadata": {},
   "outputs": [],
   "source": [
    "#pd.DataFrame?"
   ]
  },
  {
   "cell_type": "code",
   "execution_count": null,
   "metadata": {},
   "outputs": [],
   "source": [
    "cur2.execute(\"SELECT id FROM pres_vargas.censo2010_aa_ponderacao_for_mar\")\n",
    "cur3.execute(\"SELECT cd_aponde FROM pres_vargas.censo2010_aa_ponderacao_for_mar\")\n",
    "cur4.execute(\"SELECT aa_km2 FROM pres_vargas.censo2010_aa_ponderacao_for_mar\")\n",
    "x = cur2.fetchall()\n",
    "y = cur3.fetchall()\n",
    "z = cur4.fetchall()\n",
    "d = {'id':x, 'cd_aponde':y, 'aa_km2':z}\n",
    "df = pd.DataFrame (data = d)\n",
    "df"
   ]
  },
  {
   "cell_type": "code",
   "execution_count": null,
   "metadata": {},
   "outputs": [],
   "source": [
    "# Close comunication the database\n",
    "cur.close()\n",
    "cur1.close()\n",
    "cur2.close()\n",
    "cur3.close()\n",
    "cur4.close()\n",
    "conn.close()"
   ]
  }
 ],
 "metadata": {
  "kernelspec": {
   "display_name": "Python 3",
   "language": "python",
   "name": "python3"
  },
  "language_info": {
   "codemirror_mode": {
    "name": "ipython",
    "version": 3
   },
   "file_extension": ".py",
   "mimetype": "text/x-python",
   "name": "python",
   "nbconvert_exporter": "python",
   "pygments_lexer": "ipython3",
   "version": "3.7.4"
  }
 },
 "nbformat": 4,
 "nbformat_minor": 2
}
